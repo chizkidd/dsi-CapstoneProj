{
 "cells": [
  {
   "cell_type": "code",
   "execution_count": 1,
   "metadata": {},
   "outputs": [],
   "source": [
    "import numpy as np\n",
    "import pandas as pd\n",
    "from collections import defaultdict\n",
    "\n",
    "import pymongo\n",
    "from pymongo import MongoClient\n",
    "\n",
    "import time\n",
    "import requests\n",
    "import os\n",
    "import re\n",
    "from bs4 import BeautifulSoup\n",
    "import json"
   ]
  },
  {
   "cell_type": "code",
   "execution_count": 2,
   "metadata": {},
   "outputs": [],
   "source": [
    "from selenium import webdriver\n",
    "from selenium.webdriver.common.keys import Keys\n",
    "from selenium.webdriver import ActionChains\n",
    "from selenium.webdriver.support.ui import WebDriverWait\n",
    "from selenium.webdriver.chrome.options import Options\n",
    "global chrome_options\n",
    "PROXY = ''\n",
    "chrome_options = webdriver.ChromeOptions()\n",
    "chrome_options.add_argument('--proxy-server=%s' % PROXY)"
   ]
  },
  {
   "cell_type": "code",
   "execution_count": 3,
   "metadata": {},
   "outputs": [],
   "source": [
    "import time\n",
    "from selenium import webdriver\n",
    "\n",
    "driver = webdriver.Chrome('/Users/CEO/Downloads/chromedriver_2')  # Optional argument, if not specified will search path.\n",
    "driver.get('http://www.google.com/xhtml');"
   ]
  },
  {
   "cell_type": "code",
   "execution_count": 4,
   "metadata": {},
   "outputs": [],
   "source": [
    "time.sleep(5) # Let the user actually see something!"
   ]
  },
  {
   "cell_type": "code",
   "execution_count": 5,
   "metadata": {},
   "outputs": [],
   "source": [
    "search_box = driver.find_element_by_name('q')\n",
    "search_box.send_keys('ChromeDriver')\n",
    "search_box.submit()"
   ]
  },
  {
   "cell_type": "code",
   "execution_count": 6,
   "metadata": {},
   "outputs": [],
   "source": [
    "time.sleep(5) # Let the user actually see something!\n",
    "driver.quit()"
   ]
  },
  {
   "cell_type": "code",
   "execution_count": 7,
   "metadata": {},
   "outputs": [],
   "source": [
    "webpage = requests.get('https://www.whoscored.com/Regions/252/Tournaments/2/Seasons/1849/Stages/3115/Fixtures/England-Premier-League-2009-2010')"
   ]
  },
  {
   "cell_type": "code",
   "execution_count": 8,
   "metadata": {
    "scrolled": true
   },
   "outputs": [
    {
     "data": {
      "text/plain": [
       "<html style=\"height:100%\"><head><meta content=\"NOINDEX, NOFOLLOW\" name=\"ROBOTS\"/><meta content=\"telephone=no\" name=\"format-detection\"/><meta content=\"initial-scale=1.0\" name=\"viewport\"/><meta content=\"IE=edge,chrome=1\" http-equiv=\"X-UA-Compatible\"/></head><body style=\"margin:0px;height:100%\"><iframe frameborder=\"0\" height=\"100%\" marginheight=\"0px\" marginwidth=\"0px\" src=\"/_Incapsula_Resource?CWUDNSAI=20&amp;xinfo=8-6925502-0%200NNN%20RT%281542737553805%2047%29%20q%280%20-1%20-1%20-1%29%20r%280%20-1%29%20B15%284%2c200%2c0%29%20U2&amp;incident_id=515001370037581187-46695301087692952&amp;edet=15&amp;cinfo=04000000\" width=\"100%\">Request unsuccessful. Incapsula incident ID: 515001370037581187-46695301087692952</iframe></body></html>"
      ]
     },
     "execution_count": 8,
     "metadata": {},
     "output_type": "execute_result"
    }
   ],
   "source": [
    "soup = BeautifulSoup(webpage.text, 'html.parser')\n",
    "soup"
   ]
  },
  {
   "cell_type": "code",
   "execution_count": 9,
   "metadata": {},
   "outputs": [],
   "source": [
    "def get_result2(data_dict, html_list):\n",
    "    head = 'https://www.whoscored.com'\n",
    "    reports = []\n",
    "    for soup in html_list:\n",
    "        tags_home = soup.findAll('td', class_=\"team home winner\")\n",
    "        tags_result = soup.findAll('a', class_=\"result-1 rc\")\n",
    "        tags_away = soup.findAll('td', class_=\"team away\")\n",
    "        tags_match_report = soup.findAll('a', class_=\"match-link match-report rc\")\n",
    "        \n",
    "        for tag_home,tag_result, tag_away, tag_match_report in zip(tags_home, tags_result, tags_away, tags_match_report):\n",
    "            data_dict['home_teams'].append(tag_home.contents[0].text)\n",
    "            \n",
    "            result = tag_result.text\n",
    "            array = result.split(':')\n",
    "            data_dict['home_results'].append(int(array[0]) - int(array[1]))\n",
    "            \n",
    "            data_dict['away_teams'].append(tag_away.contents[0].text)\n",
    "            data_dict['match_reports'].append(tag_match_report['href'])\n",
    "            data_dict['id'].append(int(tag_match_report['href'].split('/')[2]))\n",
    "            \n",
    "            #reports.append((head + tag_match_report['href']).replace('Show', 'MatchReport'))\n",
    "            reports.append((head + tag_match_report['href']))\n",
    "    return data_dict, reports"
   ]
  },
  {
   "cell_type": "code",
   "execution_count": null,
   "metadata": {},
   "outputs": [],
   "source": []
  },
  {
   "cell_type": "code",
   "execution_count": null,
   "metadata": {},
   "outputs": [],
   "source": []
  },
  {
   "cell_type": "code",
   "execution_count": null,
   "metadata": {
    "scrolled": true
   },
   "outputs": [],
   "source": [
    "head = 'https://www.whoscored.com'\n",
    "reports = []\n",
    "for soup in html_list:\n",
    "    tags_home = soup.select('#tournament-fixture > tbody > tr > td.team.home')\n",
    "    tags_result = soup.select('#tournament-fixture > tbody > tr > td.result')\n",
    "    tags_away = soup.select('#tournament-fixture > tbody > tr > td.team.away')\n",
    "    tags_match_report = soup.select('#tournament-fixture > tbody > tr > td.toolbar.right > a.match-link.match-report.rc')\n",
    "\n",
    "print(soup.find_all('td', class_=\"team home winner\")[0])\n",
    "print()\n",
    "print(tags_home[0])\n",
    "print()\n",
    "print(tags_home[0].contents)\n",
    "print()\n",
    "print(tags_home[0].contents[0])\n",
    "print()\n",
    "print(tags_home[0].contents[-1])\n",
    "print()\n",
    "print(tags_home[0].contents[0].text)\n",
    "print()\n",
    "print(tags_home[0].contents[-1].text)\n",
    "print()\n",
    "print()\n",
    "print(tags_result[0])  \n",
    "print()\n",
    "print(soup.find_all('a', class_=\"result-1 rc\")[0])\n",
    "print()\n",
    "print(tags_result[0].text)  \n",
    "print()\n",
    "print(int(tags_result[0].text.split(':')[0]) - \n",
    "      int(tags_result[0].text.split(':')[1]))  \n",
    "print()\n",
    "print(soup.find_all('td', class_=\"team away\")[0])\n",
    "print()\n",
    "print(tags_away[0])  \n",
    "print()\n",
    "print(tags_away[0].contents[0].text)\n",
    "print()\n",
    "print(soup.findAll('a', class_=\"match-link match-report rc\")[0])  \n",
    "print()\n",
    "print(tags_match_report[0])  \n",
    "print()\n",
    "print(tags_match_report[0]['href'])  \n",
    "print()\n",
    "print(int(tags_match_report[0]['href'].split('/')[2]))\n",
    "print()\n",
    "print((tags_match_report[0]['href']).replace('MatchReport', 'Show'))\n",
    "print()\n",
    "print((tags_match_report[0]['href']).replace('Show', 'MatchReport'))"
   ]
  },
  {
   "cell_type": "code",
   "execution_count": null,
   "metadata": {},
   "outputs": [],
   "source": []
  }
 ],
 "metadata": {
  "kernelspec": {
   "display_name": "Python 3",
   "language": "python",
   "name": "python3"
  },
  "language_info": {
   "codemirror_mode": {
    "name": "ipython",
    "version": 3
   },
   "file_extension": ".py",
   "mimetype": "text/x-python",
   "name": "python",
   "nbconvert_exporter": "python",
   "pygments_lexer": "ipython3",
   "version": "3.6.6"
  }
 },
 "nbformat": 4,
 "nbformat_minor": 2
}
