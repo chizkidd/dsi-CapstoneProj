{
 "cells": [
  {
   "cell_type": "code",
   "execution_count": 1,
   "metadata": {},
   "outputs": [],
   "source": [
    "import numpy as np\n",
    "import pandas as pd\n",
    "from collections import defaultdict\n",
    "\n",
    "import pymongo\n",
    "from pymongo import MongoClient\n",
    "\n",
    "import time\n",
    "import requests\n",
    "import os\n",
    "import re\n",
    "from bs4 import BeautifulSoup\n",
    "import json"
   ]
  },
  {
   "cell_type": "code",
   "execution_count": 2,
   "metadata": {},
   "outputs": [],
   "source": [
    "from selenium import webdriver\n",
    "from selenium.webdriver.common.keys import Keys\n",
    "from selenium.webdriver import ActionChains\n",
    "from selenium.webdriver.support.ui import WebDriverWait\n",
    "from selenium.webdriver.chrome.options import Options\n",
    "global chrome_options\n",
    "PROXY = ''\n",
    "chrome_options = webdriver.ChromeOptions()\n",
    "chrome_options.add_argument('--proxy-server=%s' % PROXY)"
   ]
  },
  {
   "cell_type": "code",
   "execution_count": 3,
   "metadata": {},
   "outputs": [],
   "source": [
    "import time\n",
    "from selenium import webdriver\n",
    "\n",
    "driver = webdriver.Chrome('/Users/CEO/Downloads/chromedriver_2')  # Optional argument, if not specified will search path.\n",
    "driver.get('http://www.google.com/xhtml');"
   ]
  },
  {
   "cell_type": "code",
   "execution_count": 4,
   "metadata": {},
   "outputs": [],
   "source": [
    "time.sleep(5) # Let the user actually see something!"
   ]
  },
  {
   "cell_type": "code",
   "execution_count": 5,
   "metadata": {},
   "outputs": [],
   "source": [
    "search_box = driver.find_element_by_name('q')\n",
    "search_box.send_keys('ChromeDriver')\n",
    "search_box.submit()"
   ]
  },
  {
   "cell_type": "code",
   "execution_count": 6,
   "metadata": {},
   "outputs": [],
   "source": [
    "time.sleep(5) # Let the user actually see something!\n",
    "driver.quit()"
   ]
  },
  {
   "cell_type": "code",
   "execution_count": 7,
   "metadata": {},
   "outputs": [],
   "source": [
    "webpage = requests.get('https://www.whoscored.com/Regions/252/Tournaments/2/Seasons/1849/Stages/3115/Fixtures/England-Premier-League-2009-2010')"
   ]
  },
  {
   "cell_type": "code",
   "execution_count": 8,
   "metadata": {
    "scrolled": true
   },
   "outputs": [
    {
     "data": {
      "text/plain": [
       "<html style=\"height:100%\"><head><meta content=\"NOINDEX, NOFOLLOW\" name=\"ROBOTS\"/><meta content=\"telephone=no\" name=\"format-detection\"/><meta content=\"initial-scale=1.0\" name=\"viewport\"/><meta content=\"IE=edge,chrome=1\" http-equiv=\"X-UA-Compatible\"/></head><body style=\"margin:0px;height:100%\"><iframe frameborder=\"0\" height=\"100%\" marginheight=\"0px\" marginwidth=\"0px\" src=\"/_Incapsula_Resource?CWUDNSAI=20&amp;xinfo=8-6925502-0%200NNN%20RT%281542737553805%2047%29%20q%280%20-1%20-1%20-1%29%20r%280%20-1%29%20B15%284%2c200%2c0%29%20U2&amp;incident_id=515001370037581187-46695301087692952&amp;edet=15&amp;cinfo=04000000\" width=\"100%\">Request unsuccessful. Incapsula incident ID: 515001370037581187-46695301087692952</iframe></body></html>"
      ]
     },
     "execution_count": 8,
     "metadata": {},
     "output_type": "execute_result"
    }
   ],
   "source": [
    "soup = BeautifulSoup(webpage.text, 'html.parser')\n",
    "soup"
   ]
  },
  {
   "cell_type": "code",
   "execution_count": 9,
   "metadata": {},
   "outputs": [],
   "source": [
    "def get_result2(data_dict, html_list):\n",
    "    head = 'https://www.whoscored.com'\n",
    "    reports = []\n",
    "    for soup in html_list:\n",
    "        tags_home = soup.findAll('td', class_=\"team home winner\")\n",
    "        tags_result = soup.findAll('a', class_=\"result-1 rc\")\n",
    "        tags_away = soup.findAll('td', class_=\"team away\")\n",
    "        tags_match_report = soup.findAll('a', class_=\"match-link match-report rc\")\n",
    "        \n",
    "        for tag_home,tag_result, tag_away, tag_match_report in zip(tags_home, tags_result, tags_away, tags_match_report):\n",
    "            data_dict['home_teams'].append(tag_home.contents[0].text)\n",
    "            \n",
    "            result = tag_result.text\n",
    "            array = result.split(':')\n",
    "            data_dict['home_results'].append(int(array[0]) - int(array[1]))\n",
    "            \n",
    "            data_dict['away_teams'].append(tag_away.contents[0].text)\n",
    "            data_dict['match_reports'].append(tag_match_report['href'])\n",
    "            data_dict['id'].append(int(tag_match_report['href'].split('/')[2]))\n",
    "            \n",
    "            #reports.append((head + tag_match_report['href']).replace('Show', 'MatchReport'))\n",
    "            reports.append((head + tag_match_report['href']))\n",
    "    return data_dict, reports"
   ]
  },
  {
   "cell_type": "code",
   "execution_count": 10,
   "metadata": {},
   "outputs": [],
   "source": [
    "def get_html(season_url, months):\n",
    "    driver_s = webdriver.Chrome('/Users/CEO/Downloads/chromedriver_2')\n",
    "    html_list = []\n",
    "    \n",
    "    while True:\n",
    "        try:\n",
    "            driver_s.get(season_url)\n",
    "            break\n",
    "        except:\n",
    "            driver_s.close()\n",
    "            driver_s = webdriver.Chrome('/Users/CEO/Downloads/chromedriver_2')\n",
    "\n",
    "    for month in months:\n",
    "        time.sleep(5)\n",
    "        fixture_html = driver_s.page_source\n",
    "        fixture_soup = BeautifulSoup(fixture_html, 'html.parser')\n",
    "        html_list.append(fixture_soup)\n",
    "        if month != months[-1]:\n",
    "            while True:\n",
    "                try:\n",
    "                    driver_s.find_element_by_css_selector('#date-controller > a.previous.button.ui-state-default.rc-l.is-default').click()\n",
    "                    break\n",
    "                except:\n",
    "                    driver_s.refresh()\n",
    "                    time.sleep(10)\n",
    "\n",
    "    driver_s.close()\n",
    "    return html_list\n",
    "\n",
    "def get_result(data_dict, html_list):\n",
    "    head = 'https://www.whoscored.com'\n",
    "    reports = []\n",
    "    for soup in html_list:\n",
    "        tags_home = soup.select('#tournament-fixture > tbody > tr > td.team.home')\n",
    "        tags_result = soup.select('#tournament-fixture > tbody > tr > td.result')\n",
    "        tags_away = soup.select('#tournament-fixture > tbody > tr > td.team.away')\n",
    "        tags_match_report = soup.select('#tournament-fixture > tbody > tr > td.toolbar.right > a.match-link.match-report.rc')\n",
    "        \n",
    "        for tag_home,tag_result, tag_away, tag_match_report in zip(tags_home, tags_result, tags_away, tags_match_report):\n",
    "            data_dict['home_teams'].append(tag_home.contents[-1].text)\n",
    "            \n",
    "            result = tag_result.text\n",
    "            array = result.split(':')\n",
    "            data_dict['results'].append(int(array[0]) - int(array[1]))\n",
    "            \n",
    "            data_dict['away_teams'].append(tag_away.contents[0].text)\n",
    "            data_dict['id'].append(int(tag_match_report['href'].split('/')[2]))\n",
    "            \n",
    "            reports.append((head + tag_match_report['href']).replace('Show', 'MatchReport'))\n",
    "    return data_dict, reports\n",
    "\n",
    "def get_general_stats(data_dict, reports_):\n",
    "    #driver_s = webdriver.Firefox()\n",
    "    driver_s = webdriver.Chrome('/Users/CEO/Downloads/chromedriver_2')\n",
    "    reports_iter = list(reports_)\n",
    "    for report in reports_iter:\n",
    "        while True:\n",
    "            try:\n",
    "                driver_s.get(report)\n",
    "                time.sleep(4)\n",
    "                html = driver_s.page_source\n",
    "                soup = BeautifulSoup(html, 'html.parser')\n",
    "                data_dict['home_shots'].append(int(soup.select('#match-report-team-statistics > div.stat-group.no-top-margin > div > span')[0].text))\n",
    "                break\n",
    "            except:\n",
    "                driver_s.close()\n",
    "                driver_s = webdriver.Chrome('/Users/CEO/Downloads/chromedriver_2')\n",
    "                #driver_s = webdriver.Firefox()\n",
    "                \n",
    "        data_dict['away_shots'].append(int(soup.select('#match-report-team-statistics > div.stat-group.no-top-margin > div > span')[2].text))\n",
    "        data_dict['home_SOT'].append(int(soup.select('#match-report-team-statistics > div.stat-group.no-top-margin > div > span')[3].text))\n",
    "        data_dict['away_SOT'].append(int(soup.select('#match-report-team-statistics > div.stat-group.no-top-margin > div > span')[5].text))\n",
    "        data_dict['home_pass_success'].append(int((soup.select('#match-report-team-statistics > div.stat-group.no-top-margin > div > span')[6].text)[:-1])/100.0)\n",
    "        data_dict['away_pass_success'].append(int((soup.select('#match-report-team-statistics > div.stat-group.no-top-margin > div > span')[8].text)[:-1])/100.0)\n",
    "        data_dict['home_aerial_success'].append(int((soup.select('#match-report-team-statistics > div.stat-group.no-top-margin > div > span')[9].text)[:-1])/100.0)\n",
    "        data_dict['away_aerial_success'].append(int((soup.select('#match-report-team-statistics > div.stat-group.no-top-margin > div > span')[11].text)[:-1])/100.0)\n",
    "        data_dict['home_dribbles'].append(int(soup.select('#match-report-team-statistics > div.stat-group.no-top-margin > div > span')[12].text))\n",
    "        data_dict['away_dribbles'].append(int(soup.select('#match-report-team-statistics > div.stat-group.no-top-margin > div > span')[14].text))\n",
    "        data_dict['home_possession'].append(int(soup.select('#match-report-team-statistics > div > div.stat > span > span > span')[1].text[:-1])/100.)\n",
    "        data_dict['away_possession'].append(int(soup.select('#match-report-team-statistics > div > div.stat > span > span > span')[2].text[:-1])/100.)\n",
    "        data_dict['home_counter'].append(int(soup.select('#live-goals-content-comparision > div > div > span > span')[6].text)/float(soup.select('#live-goals-content-comparision > div > div > span > span')[0].text))\n",
    "        data_dict['away_counter'].append(int(soup.select('#live-goals-content-comparision > div > div > span > span')[7].text)/float(soup.select('#live-goals-content-comparision > div > div > span > span')[1].text))\n",
    "        data_dict['home_setpiece'].append(int(soup.select('#live-goals-content-comparision > div > div > span > span')[4].text)/float(soup.select('#live-goals-content-comparision > div > div > span > span')[0].text))\n",
    "        data_dict['away_setpiece'].append(int(soup.select('#live-goals-content-comparision > div > div > span > span')[5].text)/float(soup.select('#live-goals-content-comparision > div > div > span > span')[1].text))\n",
    "        time.sleep(5)\n",
    "        \n",
    "        while True:\n",
    "            try:\n",
    "                driver_s.find_element_by_css_selector('#live-chart-stats-options > li:nth-child(2) > a').click()\n",
    "                time.sleep(5)\n",
    "                html = driver_s.page_source\n",
    "                soup = BeautifulSoup(html, 'html.parser')\n",
    "                data_dict['home_total_pass'].append(int(soup.select('#live-passes-content-comparision > div > div > span > span')[0].text))\n",
    "                break\n",
    "            except:\n",
    "                driver_s.refresh()\n",
    "                time.sleep(10)\n",
    "                    \n",
    "        data_dict['away_total_pass'].append(int(soup.select('#live-passes-content-comparision > div > div > span > span')[1].text))\n",
    "        data_dict['home_crosses'].append(int(soup.select('#live-passes-content-comparision > div > div > span > span')[2].text)/float(data_dict['home_total_pass'][-1]))\n",
    "        data_dict['away_crosses'].append(int(soup.select('#live-passes-content-comparision > div > div > span > span')[3].text)/float(data_dict['away_total_pass'][-1]))\n",
    "        data_dict['home_through_pass'].append(int(soup.select('#live-passes-content-comparision > div > div > span > span')[4].text)/float(data_dict['home_total_pass'][-1]))\n",
    "        data_dict['away_through_pass'].append(int(soup.select('#live-passes-content-comparision > div > div > span > span')[5].text)/float(data_dict['away_total_pass'][-1]))\n",
    "        data_dict['home_long_pass'].append(int(soup.select('#live-passes-content-comparision > div > div > span > span')[6].text)/float(data_dict['home_total_pass'][-1]))\n",
    "        data_dict['away_long_pass'].append(int(soup.select('#live-passes-content-comparision > div > div > span > span')[7].text)/float(data_dict['away_total_pass'][-1]))\n",
    "        data_dict['home_short_pass'].append(int(soup.select('#live-passes-content-comparision > div > div > span > span')[8].text)/float(data_dict['home_total_pass'][-1]))\n",
    "        data_dict['away_short_pass'].append(int(soup.select('#live-passes-content-comparision > div > div > span > span')[9].text)/float(data_dict['away_total_pass'][-1]))\n",
    "        data_dict['home_pass_streak'].append(int(soup.select('#live-passes-info > div > div > span > span > span')[5].text))\n",
    "        data_dict['away_pass_streak'].append(int(soup.select('#live-passes-info > div > div > span > span > span')[6].text))\n",
    "\n",
    "        while True:\n",
    "            try:\n",
    "                driver_s.find_element_by_css_selector('#sub-navigation > ul > li:nth-child(4) > a').click()\n",
    "                time.sleep(8)\n",
    "                html = driver_s.page_source\n",
    "                soup = BeautifulSoup(html, 'html.parser')\n",
    "                data_dict['home_formation'].append(soup.select('#match-centre-header > div > div.team-info > div.formation')[0].text)\n",
    "                break\n",
    "            except:\n",
    "                driver_s.refresh()\n",
    "                time.sleep(10)\n",
    "\n",
    "        data_dict['away_formation'].append(soup.select('#match-centre-header > div > div.team-info > div.formation')[1].text)\n",
    "        data_dict['home_success_tackles'].append(int(soup.select('#match-centre-stats > ul > li > div.match-centre-stats > ul > li > div > span.match-centre-stat-value')[38].text))\n",
    "        data_dict['away_success_tackles'].append(int(soup.select('#match-centre-stats > ul > li > div.match-centre-stats > ul > li > div > span.match-centre-stat-value')[39].text))\n",
    "        data_dict['home_clearances'].append(int(soup.select('#match-centre-stats > ul > li > div.match-centre-stats > ul > li > div > span.match-centre-stat-value')[46].text))\n",
    "        data_dict['away_clearances'].append(int(soup.select('#match-centre-stats > ul > li > div.match-centre-stats > ul > li > div > span.match-centre-stat-value')[47].text))\n",
    "        data_dict['home_interceptions'].append(int(soup.select('#match-centre-stats > ul > li > div.match-centre-stats > ul > li > div > span.match-centre-stat-value')[48].text))\n",
    "        data_dict['away_interceptions'].append(int(soup.select('#match-centre-stats > ul > li > div.match-centre-stats > ul > li > div > span.match-centre-stat-value')[49].text))\n",
    "        \n",
    "        while True:\n",
    "            try:\n",
    "                driver_s.find_element_by_css_selector('#live-match-options > li:nth-child(3) > a > span:nth-child(2)').click()\n",
    "                time.sleep(8)\n",
    "                html = driver_s.page_source\n",
    "                soup = BeautifulSoup(html, 'html.parser')\n",
    "                home_6yd = int(soup.select('#chalkboard > div.filterz-filter-groups.clearfix > div.filterz-filter-group.selected > div > div > span.filterz-value')[12].text)\n",
    "                break\n",
    "            except:\n",
    "                driver_s.refresh()\n",
    "                time.sleep(10)\n",
    "                   \n",
    "        away_6yd = int(soup.select('#chalkboard > div.filterz-filter-groups.clearfix > div.filterz-filter-group.selected > div > div > span.filterz-value')[13].text)\n",
    "        home_pen = int(soup.select('#chalkboard > div.filterz-filter-groups.clearfix > div.filterz-filter-group.selected > div > div > span.filterz-value')[14].text)\n",
    "        away_pen = int(soup.select('#chalkboard > div.filterz-filter-groups.clearfix > div.filterz-filter-group.selected > div > div > span.filterz-value')[15].text)\n",
    "        home_out = int(soup.select('#chalkboard > div.filterz-filter-groups.clearfix > div.filterz-filter-group.selected > div > div > span.filterz-value')[16].text)\n",
    "        away_out = int(soup.select('#chalkboard > div.filterz-filter-groups.clearfix > div.filterz-filter-group.selected > div > div > span.filterz-value')[17].text)\n",
    "        total_shots = float(home_6yd + away_6yd + home_pen + away_pen + home_out + away_out)\n",
    "        data_dict['home_6yd_box'].append(home_6yd/total_shots)\n",
    "        data_dict['away_6yd_box'].append(away_6yd/total_shots)\n",
    "        data_dict['home_pen_box'].append(home_pen/total_shots)\n",
    "        data_dict['away_pen_box'].append(away_pen/total_shots)\n",
    "        data_dict['home_out_box'].append(home_out/total_shots)\n",
    "        data_dict['away_out_box'].append(home_out/total_shots)\n",
    "        reports_.pop(0)\n",
    "    driver_s.close()\n",
    "    return data_dict"
   ]
  },
  {
   "cell_type": "code",
   "execution_count": 11,
   "metadata": {},
   "outputs": [],
   "source": [
    "url_09_10 = 'https://www.whoscored.com/Regions/252/Tournaments/2/Seasons/1849/Stages/3115/Fixtures/England-Premier-League-2009-2010'\n",
    "url_10_11 = 'https://www.whoscored.com/Regions/252/Tournaments/2/Seasons/2458/Stages/4345/Fixtures/England-Premier-League-2010-2011'\n",
    "url_11_12 = 'https://www.whoscored.com/Regions/252/Tournaments/2/Seasons/2935/Stages/5476/Fixtures/England-Premier-League-2011-2012'\n",
    "url_12_13 = 'https://www.whoscored.com/Regions/252/Tournaments/2/Seasons/3389/Stages/6531/Fixtures/England-Premier-League-2012-2013'\n",
    "url_13_14 = 'https://www.whoscored.com/Regions/252/Tournaments/2/Seasons/3853/Stages/7794/Fixtures/England-Premier-League-2013-2014'\n",
    "url_14_15 = 'https://www.whoscored.com/Regions/252/Tournaments/2/Seasons/4311/Stages/9155/Fixtures/England-Premier-League-2014-2015'\n",
    "url_15_16 = 'https://www.whoscored.com/Regions/252/Tournaments/2/Seasons/5826/Stages/12496/Fixtures/England-Premier-League-2015-2016'\n",
    "url_16_17 = 'https://www.whoscored.com/Regions/252/Tournaments/2/Seasons/6335/Stages/13796/Fixtures/England-Premier-League-2016-2017'\n",
    "urls = [url_09_10, url_10_11, url_11_12, url_12_13, url_13_14, url_14_15, url_15_16, url_16_17]\n",
    "months = ['May', 'April', 'March', 'Feb', 'Jan', 'Dec', 'Nov', 'Oct', 'Sep', 'Aug']\n",
    "df_EPL = pd.DataFrame()"
   ]
  },
  {
   "cell_type": "code",
   "execution_count": 12,
   "metadata": {},
   "outputs": [],
   "source": [
    "html_list = get_html(url_16_17, months)"
   ]
  },
  {
   "cell_type": "code",
   "execution_count": null,
   "metadata": {},
   "outputs": [],
   "source": [
    "len(html_list)"
   ]
  },
  {
   "cell_type": "code",
   "execution_count": null,
   "metadata": {
    "scrolled": true
   },
   "outputs": [],
   "source": [
    "html_list[1]"
   ]
  },
  {
   "cell_type": "code",
   "execution_count": null,
   "metadata": {},
   "outputs": [],
   "source": [
    "data_dict = defaultdict(list)"
   ]
  },
  {
   "cell_type": "code",
   "execution_count": null,
   "metadata": {},
   "outputs": [],
   "source": [
    "data_dict"
   ]
  },
  {
   "cell_type": "code",
   "execution_count": null,
   "metadata": {
    "scrolled": false
   },
   "outputs": [],
   "source": [
    "data_dict, reports = get_result(data_dict, html_list)\n",
    "print ('Results and reports complete!')\n",
    "print (len(reports))"
   ]
  },
  {
   "cell_type": "code",
   "execution_count": null,
   "metadata": {},
   "outputs": [],
   "source": [
    "len(data_dict['home_teams']), len(data_dict['away_teams']), \\\n",
    "len(data_dict['results']), len(data_dict['id']), len(reports)"
   ]
  },
  {
   "cell_type": "code",
   "execution_count": null,
   "metadata": {
    "scrolled": true
   },
   "outputs": [],
   "source": [
    "reports"
   ]
  },
  {
   "cell_type": "code",
   "execution_count": null,
   "metadata": {
    "scrolled": true
   },
   "outputs": [],
   "source": [
    "data_dict2 = defaultdict(list)\n",
    "data_dict2, reports2 = get_result2(data_dict2, html_list)\n",
    "print ('Results and reports complete!')\n",
    "print (len(reports2))"
   ]
  },
  {
   "cell_type": "code",
   "execution_count": null,
   "metadata": {},
   "outputs": [],
   "source": [
    "len(data_dict2['home_teams']), len(data_dict2['away_teams']), \\\n",
    "len(data_dict2['home_results']), len(data_dict2['match_reports']), len(data_dict2['id']), len(reports2)"
   ]
  },
  {
   "cell_type": "code",
   "execution_count": null,
   "metadata": {},
   "outputs": [],
   "source": [
    "reports_ = list(reports)"
   ]
  },
  {
   "cell_type": "code",
   "execution_count": null,
   "metadata": {},
   "outputs": [],
   "source": [
    "data_dict = get_general_stats(data_dict, reports_)\n",
    "print ('General stats complete!')\n",
    "time.sleep(5)"
   ]
  },
  {
   "cell_type": "code",
   "execution_count": null,
   "metadata": {},
   "outputs": [],
   "source": []
  },
  {
   "cell_type": "code",
   "execution_count": null,
   "metadata": {},
   "outputs": [],
   "source": []
  },
  {
   "cell_type": "code",
   "execution_count": null,
   "metadata": {},
   "outputs": [],
   "source": []
  },
  {
   "cell_type": "code",
   "execution_count": null,
   "metadata": {},
   "outputs": [],
   "source": []
  },
  {
   "cell_type": "code",
   "execution_count": null,
   "metadata": {},
   "outputs": [],
   "source": []
  },
  {
   "cell_type": "code",
   "execution_count": null,
   "metadata": {},
   "outputs": [],
   "source": []
  },
  {
   "cell_type": "code",
   "execution_count": null,
   "metadata": {},
   "outputs": [],
   "source": []
  },
  {
   "cell_type": "code",
   "execution_count": null,
   "metadata": {},
   "outputs": [],
   "source": []
  },
  {
   "cell_type": "code",
   "execution_count": null,
   "metadata": {},
   "outputs": [],
   "source": []
  },
  {
   "cell_type": "code",
   "execution_count": null,
   "metadata": {},
   "outputs": [],
   "source": []
  },
  {
   "cell_type": "code",
   "execution_count": null,
   "metadata": {
    "scrolled": true
   },
   "outputs": [],
   "source": [
    "head = 'https://www.whoscored.com'\n",
    "reports = []\n",
    "for soup in html_list:\n",
    "    tags_home = soup.select('#tournament-fixture > tbody > tr > td.team.home')\n",
    "    tags_result = soup.select('#tournament-fixture > tbody > tr > td.result')\n",
    "    tags_away = soup.select('#tournament-fixture > tbody > tr > td.team.away')\n",
    "    tags_match_report = soup.select('#tournament-fixture > tbody > tr > td.toolbar.right > a.match-link.match-report.rc')\n",
    "\n",
    "print(soup.find_all('td', class_=\"team home winner\")[0])\n",
    "print()\n",
    "print(tags_home[0])\n",
    "print()\n",
    "print(tags_home[0].contents)\n",
    "print()\n",
    "print(tags_home[0].contents[0])\n",
    "print()\n",
    "print(tags_home[0].contents[-1])\n",
    "print()\n",
    "print(tags_home[0].contents[0].text)\n",
    "print()\n",
    "print(tags_home[0].contents[-1].text)\n",
    "print()\n",
    "print()\n",
    "print(tags_result[0])  \n",
    "print()\n",
    "print(soup.find_all('a', class_=\"result-1 rc\")[0])\n",
    "print()\n",
    "print(tags_result[0].text)  \n",
    "print()\n",
    "print(int(tags_result[0].text.split(':')[0]) - \n",
    "      int(tags_result[0].text.split(':')[1]))  \n",
    "print()\n",
    "print(soup.find_all('td', class_=\"team away\")[0])\n",
    "print()\n",
    "print(tags_away[0])  \n",
    "print()\n",
    "print(tags_away[0].contents[0].text)\n",
    "print()\n",
    "print(soup.findAll('a', class_=\"match-link match-report rc\")[0])  \n",
    "print()\n",
    "print(tags_match_report[0])  \n",
    "print()\n",
    "print(tags_match_report[0]['href'])  \n",
    "print()\n",
    "print(int(tags_match_report[0]['href'].split('/')[2]))\n",
    "print()\n",
    "print((tags_match_report[0]['href']).replace('MatchReport', 'Show'))\n",
    "print()\n",
    "print((tags_match_report[0]['href']).replace('Show', 'MatchReport'))"
   ]
  },
  {
   "cell_type": "markdown",
   "metadata": {},
   "source": [
    "## Feature Descriptions"
   ]
  },
  {
   "cell_type": "raw",
   "metadata": {},
   "source": [
    "_id:          Game ID on whoscored.com                        teams:           list of teams\n",
    "results:      home team score minus away team score           reports:         urls to game match reports\n",
    "shots:        total number of shots                           SOT:             total number of shots on target\n",
    "pass_success: % of sucessful passes                           aerial_success:  % of aerial challenges won\n",
    "dribbles:     Number of dribbles successfully completed       possession:      % of ball possession\n",
    "counter:      % of attempts that came from counter attacks    setpiece:        % of attempts that came from setpieces\n",
    "total_pass:   Total number of passes                          crosses:         % of passes that were crosses\n",
    "through_pass: % of passes that are through balls              long_pass:       % of passes that are long balls\n",
    "short_pass:   % of passes that go short                       pass_streak:     average number of passes per move\n",
    "formation:    formation being played e.g. 4-4-2               success_tackles: Number of successful tackles\n",
    "clearances:   Number of times the ball was cleared            interceptions:   Number of interceptions\n",
    "6yd_box:      % of shots taken from within the 6 yard box     pen_box:         % of shots taken within the penalty box\n",
    "out_box:      % of shots taken from outside the box           avg_rating:      Seasonal avg rating of players on team\n",
    "Leagues:      England, Spain, Italy, Germany\n",
    "Number of games: 11,560"
   ]
  },
  {
   "cell_type": "code",
   "execution_count": null,
   "metadata": {},
   "outputs": [],
   "source": []
  }
 ],
 "metadata": {
  "kernelspec": {
   "display_name": "Python 3",
   "language": "python",
   "name": "python3"
  },
  "language_info": {
   "codemirror_mode": {
    "name": "ipython",
    "version": 3
   },
   "file_extension": ".py",
   "mimetype": "text/x-python",
   "name": "python",
   "nbconvert_exporter": "python",
   "pygments_lexer": "ipython3",
   "version": "3.6.6"
  }
 },
 "nbformat": 4,
 "nbformat_minor": 2
}
